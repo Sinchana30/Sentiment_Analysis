{
  "nbformat": 4,
  "nbformat_minor": 0,
  "metadata": {
    "colab": {
      "name": "Movie_Sentiment_Analysis .ipynb",
      "provenance": [],
      "mount_file_id": "1cLuDdxF-zMfdLMjnJRtYfLSOK2rCR0e5",
      "authorship_tag": "ABX9TyPABgFcUeS5TWoALYVtiJS9",
      "include_colab_link": true
    },
    "kernelspec": {
      "name": "python3",
      "display_name": "Python 3"
    }
  },
  "cells": [
    {
      "cell_type": "markdown",
      "metadata": {
        "id": "view-in-github",
        "colab_type": "text"
      },
      "source": [
        "<a href=\"https://colab.research.google.com/github/Sinchana30/Sentiment_Analysis/blob/master/Movie_Sentiment_Analysis_.ipynb\" target=\"_parent\"><img src=\"https://colab.research.google.com/assets/colab-badge.svg\" alt=\"Open In Colab\"/></a>"
      ]
    },
    {
      "cell_type": "code",
      "metadata": {
        "id": "vbWHXFF6nmIx",
        "colab_type": "code",
        "colab": {}
      },
      "source": [
        "import numpy as np \n",
        "import pandas as pd \n",
        "import matplotlib.pyplot as plt \n",
        "from google.colab import files\n",
        "import seaborn as sns\n",
        "%matplotlib inline"
      ],
      "execution_count": 7,
      "outputs": []
    },
    {
      "cell_type": "markdown",
      "metadata": {
        "id": "qznzrokhrIEg",
        "colab_type": "text"
      },
      "source": [
        "# ***Reading Train data***"
      ]
    },
    {
      "cell_type": "code",
      "metadata": {
        "id": "DBySkBE4pAoX",
        "colab_type": "code",
        "colab": {}
      },
      "source": [
        "train_data = pd.read_csv('/content/drive/My Drive/Colab Notebooks/train.tsv',sep='\\t')\n"
      ],
      "execution_count": null,
      "outputs": []
    },
    {
      "cell_type": "code",
      "metadata": {
        "id": "TkZhEgePpDvX",
        "colab_type": "code",
        "colab": {
          "base_uri": "https://localhost:8080/",
          "height": 195
        },
        "outputId": "88cb5f14-b129-42f1-d4bc-59f3e771d21f"
      },
      "source": [
        "train_data.head(5)"
      ],
      "execution_count": 9,
      "outputs": [
        {
          "output_type": "execute_result",
          "data": {
            "text/html": [
              "<div>\n",
              "<style scoped>\n",
              "    .dataframe tbody tr th:only-of-type {\n",
              "        vertical-align: middle;\n",
              "    }\n",
              "\n",
              "    .dataframe tbody tr th {\n",
              "        vertical-align: top;\n",
              "    }\n",
              "\n",
              "    .dataframe thead th {\n",
              "        text-align: right;\n",
              "    }\n",
              "</style>\n",
              "<table border=\"1\" class=\"dataframe\">\n",
              "  <thead>\n",
              "    <tr style=\"text-align: right;\">\n",
              "      <th></th>\n",
              "      <th>PhraseId</th>\n",
              "      <th>SentenceId</th>\n",
              "      <th>Phrase</th>\n",
              "      <th>Sentiment</th>\n",
              "    </tr>\n",
              "  </thead>\n",
              "  <tbody>\n",
              "    <tr>\n",
              "      <th>0</th>\n",
              "      <td>1</td>\n",
              "      <td>1</td>\n",
              "      <td>A series of escapades demonstrating the adage ...</td>\n",
              "      <td>1</td>\n",
              "    </tr>\n",
              "    <tr>\n",
              "      <th>1</th>\n",
              "      <td>2</td>\n",
              "      <td>1</td>\n",
              "      <td>A series of escapades demonstrating the adage ...</td>\n",
              "      <td>2</td>\n",
              "    </tr>\n",
              "    <tr>\n",
              "      <th>2</th>\n",
              "      <td>3</td>\n",
              "      <td>1</td>\n",
              "      <td>A series</td>\n",
              "      <td>2</td>\n",
              "    </tr>\n",
              "    <tr>\n",
              "      <th>3</th>\n",
              "      <td>4</td>\n",
              "      <td>1</td>\n",
              "      <td>A</td>\n",
              "      <td>2</td>\n",
              "    </tr>\n",
              "    <tr>\n",
              "      <th>4</th>\n",
              "      <td>5</td>\n",
              "      <td>1</td>\n",
              "      <td>series</td>\n",
              "      <td>2</td>\n",
              "    </tr>\n",
              "  </tbody>\n",
              "</table>\n",
              "</div>"
            ],
            "text/plain": [
              "   PhraseId  ...  Sentiment\n",
              "0         1  ...          1\n",
              "1         2  ...          2\n",
              "2         3  ...          2\n",
              "3         4  ...          2\n",
              "4         5  ...          2\n",
              "\n",
              "[5 rows x 4 columns]"
            ]
          },
          "metadata": {
            "tags": []
          },
          "execution_count": 9
        }
      ]
    },
    {
      "cell_type": "code",
      "metadata": {
        "id": "b1JxqPHErld5",
        "colab_type": "code",
        "colab": {
          "base_uri": "https://localhost:8080/",
          "height": 202
        },
        "outputId": "57fdf5a8-4434-4c39-8096-35f1de3f6b50"
      },
      "source": [
        "train_data.info()"
      ],
      "execution_count": 10,
      "outputs": [
        {
          "output_type": "stream",
          "text": [
            "<class 'pandas.core.frame.DataFrame'>\n",
            "RangeIndex: 156060 entries, 0 to 156059\n",
            "Data columns (total 4 columns):\n",
            " #   Column      Non-Null Count   Dtype \n",
            "---  ------      --------------   ----- \n",
            " 0   PhraseId    156060 non-null  int64 \n",
            " 1   SentenceId  156060 non-null  int64 \n",
            " 2   Phrase      156060 non-null  object\n",
            " 3   Sentiment   156060 non-null  int64 \n",
            "dtypes: int64(3), object(1)\n",
            "memory usage: 4.8+ MB\n"
          ],
          "name": "stdout"
        }
      ]
    },
    {
      "cell_type": "code",
      "metadata": {
        "id": "Kr13SQI6tnpN",
        "colab_type": "code",
        "colab": {
          "base_uri": "https://localhost:8080/",
          "height": 136
        },
        "outputId": "401bad70-10c5-4eaa-8618-6edddfce6f23"
      },
      "source": [
        "train_data.describe().transpose()"
      ],
      "execution_count": 15,
      "outputs": [
        {
          "output_type": "execute_result",
          "data": {
            "text/html": [
              "<div>\n",
              "<style scoped>\n",
              "    .dataframe tbody tr th:only-of-type {\n",
              "        vertical-align: middle;\n",
              "    }\n",
              "\n",
              "    .dataframe tbody tr th {\n",
              "        vertical-align: top;\n",
              "    }\n",
              "\n",
              "    .dataframe thead th {\n",
              "        text-align: right;\n",
              "    }\n",
              "</style>\n",
              "<table border=\"1\" class=\"dataframe\">\n",
              "  <thead>\n",
              "    <tr style=\"text-align: right;\">\n",
              "      <th></th>\n",
              "      <th>count</th>\n",
              "      <th>mean</th>\n",
              "      <th>std</th>\n",
              "      <th>min</th>\n",
              "      <th>25%</th>\n",
              "      <th>50%</th>\n",
              "      <th>75%</th>\n",
              "      <th>max</th>\n",
              "    </tr>\n",
              "  </thead>\n",
              "  <tbody>\n",
              "    <tr>\n",
              "      <th>PhraseId</th>\n",
              "      <td>156060.0</td>\n",
              "      <td>78030.500000</td>\n",
              "      <td>45050.785842</td>\n",
              "      <td>1.0</td>\n",
              "      <td>39015.75</td>\n",
              "      <td>78030.5</td>\n",
              "      <td>117045.25</td>\n",
              "      <td>156060.0</td>\n",
              "    </tr>\n",
              "    <tr>\n",
              "      <th>SentenceId</th>\n",
              "      <td>156060.0</td>\n",
              "      <td>4079.732744</td>\n",
              "      <td>2502.764394</td>\n",
              "      <td>1.0</td>\n",
              "      <td>1861.75</td>\n",
              "      <td>4017.0</td>\n",
              "      <td>6244.00</td>\n",
              "      <td>8544.0</td>\n",
              "    </tr>\n",
              "    <tr>\n",
              "      <th>Sentiment</th>\n",
              "      <td>156060.0</td>\n",
              "      <td>2.063578</td>\n",
              "      <td>0.893832</td>\n",
              "      <td>0.0</td>\n",
              "      <td>2.00</td>\n",
              "      <td>2.0</td>\n",
              "      <td>3.00</td>\n",
              "      <td>4.0</td>\n",
              "    </tr>\n",
              "  </tbody>\n",
              "</table>\n",
              "</div>"
            ],
            "text/plain": [
              "               count          mean           std  ...      50%        75%       max\n",
              "PhraseId    156060.0  78030.500000  45050.785842  ...  78030.5  117045.25  156060.0\n",
              "SentenceId  156060.0   4079.732744   2502.764394  ...   4017.0    6244.00    8544.0\n",
              "Sentiment   156060.0      2.063578      0.893832  ...      2.0       3.00       4.0\n",
              "\n",
              "[3 rows x 8 columns]"
            ]
          },
          "metadata": {
            "tags": []
          },
          "execution_count": 15
        }
      ]
    },
    {
      "cell_type": "markdown",
      "metadata": {
        "id": "X8tg9LiNutI5",
        "colab_type": "text"
      },
      "source": [
        "# ***Data Visualization***"
      ]
    },
    {
      "cell_type": "code",
      "metadata": {
        "id": "cDPo9tx-uYZA",
        "colab_type": "code",
        "colab": {
          "base_uri": "https://localhost:8080/",
          "height": 118
        },
        "outputId": "d7498417-daad-4f40-f7d9-467194638f1d"
      },
      "source": [
        "train_data.Sentiment.value_counts()"
      ],
      "execution_count": 17,
      "outputs": [
        {
          "output_type": "execute_result",
          "data": {
            "text/plain": [
              "2    79582\n",
              "3    32927\n",
              "1    27273\n",
              "4     9206\n",
              "0     7072\n",
              "Name: Sentiment, dtype: int64"
            ]
          },
          "metadata": {
            "tags": []
          },
          "execution_count": 17
        }
      ]
    },
    {
      "cell_type": "code",
      "metadata": {
        "id": "I4z2qzuSuFDE",
        "colab_type": "code",
        "colab": {
          "base_uri": "https://localhost:8080/",
          "height": 279
        },
        "outputId": "42a56d72-8ecb-4a22-8656-03cf8f79bdf8"
      },
      "source": [
        "train_data.Sentiment.value_counts()\n",
        "countSentiment=data.groupby('Sentiment').count()\n",
        "plt.bar(countSentiment.index.values, countSentiment['Phrase'])\n",
        "plt.xlabel('Movie Sentiments from Review')\n",
        "plt.ylabel('Number of Reviews')\n",
        "plt.show()\n"
      ],
      "execution_count": 16,
      "outputs": [
        {
          "output_type": "display_data",
          "data": {
            "image/png": "[encoded data removed]",
            "text/plain": [
              "<Figure size 432x288 with 1 Axes>"
            ]
          },
          "metadata": {
            "tags": [],
            "needs_background": "light"
          }
        }
      ]
    },
    {
      "cell_type": "markdown",
      "metadata": {
        "id": "jxSVPcxQrwoh",
        "colab_type": "text"
      },
      "source": [
        "The sentiment labels are:\n",
        "\n",
        "0 - negative; 1 - somewhat negative; 2 - neutral; 3 - somewhat positive; 4 - positive"
      ]
    },
    {
      "cell_type": "code",
      "metadata": {
        "id": "R4TvxMnPrrls",
        "colab_type": "code",
        "colab": {
          "base_uri": "https://localhost:8080/",
          "height": 54
        },
        "outputId": "f7a8d939-af13-4622-960e-e2c91edb799d"
      },
      "source": [
        "print(train_data.iloc[0]['Phrase'],'Sentiment - ',train_data.iloc[0]['Sentiment'])"
      ],
      "execution_count": 11,
      "outputs": [
        {
          "output_type": "stream",
          "text": [
            "A series of escapades demonstrating the adage that what is good for the goose is also good for the gander , some of which occasionally amuses but none of which amounts to much of a story . Sentiment -  1\n"
          ],
          "name": "stdout"
        }
      ]
    },
    {
      "cell_type": "code",
      "metadata": {
        "id": "Jgfd6Ucjr-kQ",
        "colab_type": "code",
        "colab": {
          "base_uri": "https://localhost:8080/",
          "height": 34
        },
        "outputId": "c5ff167b-18d2-4ed7-b72b-593d6f2383f7"
      },
      "source": [
        "print(train_data.iloc[1]['Phrase'],'Sentiment - ',train_data.iloc[1]['Sentiment'])"
      ],
      "execution_count": 12,
      "outputs": [
        {
          "output_type": "stream",
          "text": [
            "A series of escapades demonstrating the adage that what is good for the goose Sentiment -  2\n"
          ],
          "name": "stdout"
        }
      ]
    },
    {
      "cell_type": "code",
      "metadata": {
        "id": "BBiL4QHTsEy_",
        "colab_type": "code",
        "colab": {
          "base_uri": "https://localhost:8080/",
          "height": 84
        },
        "outputId": "eb690e20-e7fc-491c-c8e6-30e5df3a4983"
      },
      "source": [
        "print(train_data.iloc[32]['Phrase'],'Sentiment - ',train_data.iloc[32]['Sentiment'])\n",
        "print('\\n')\n",
        "print(train_data.iloc[33]['Phrase'],'Sentiment - ',train_data.iloc[33]['Sentiment'])"
      ],
      "execution_count": 13,
      "outputs": [
        {
          "output_type": "stream",
          "text": [
            "for the gander , some of which occasionally amuses but none of which amounts to much of a story Sentiment -  2\n",
            "\n",
            "\n",
            "the gander , some of which occasionally amuses but none of which amounts to much of a story Sentiment -  1\n"
          ],
          "name": "stdout"
        }
      ]
    },
    {
      "cell_type": "markdown",
      "metadata": {
        "id": "CUcjphoQsK6c",
        "colab_type": "text"
      },
      "source": [
        "*Lets clean the phrases by removing punctuation marks and splitting them into a list*\n",
        "\n"
      ]
    },
    {
      "cell_type": "code",
      "metadata": {
        "id": "wTOkcHszsSYS",
        "colab_type": "code",
        "colab": {}
      },
      "source": [
        "import string\n",
        "from nltk.stem import WordNetLemmatizer\n",
        "\n",
        "string.punctuation\n",
        "lm = WordNetLemmatizer()\n",
        "\n",
        "def own_analyser(phrase):\n",
        "    phrase = phrase.split()\n",
        "    for i in range(0,len(phrase)):\n",
        "        k = phrase.pop(0)\n",
        "        if k not in string.punctuation:\n",
        "                phrase.append(lm.lemmatize(k).lower())    \n",
        "    return phrase\n"
      ],
      "execution_count": 43,
      "outputs": []
    },
    {
      "cell_type": "code",
      "metadata": {
        "id": "EUPaNd4NtN9J",
        "colab_type": "code",
        "colab": {
          "base_uri": "https://localhost:8080/",
          "height": 34
        },
        "outputId": "8c03c782-b639-469c-e424-892eeb78b57d"
      },
      "source": [
        "train_data.columns"
      ],
      "execution_count": 14,
      "outputs": [
        {
          "output_type": "execute_result",
          "data": {
            "text/plain": [
              "Index(['PhraseId', 'SentenceId', 'Phrase', 'Sentiment'], dtype='object')"
            ]
          },
          "metadata": {
            "tags": []
          },
          "execution_count": 14
        }
      ]
    },
    {
      "cell_type": "code",
      "metadata": {
        "id": "CcqqDY61tUMf",
        "colab_type": "code",
        "colab": {}
      },
      "source": [
        "X = train_data['Phrase']\n",
        "y = train_data['Sentiment']"
      ],
      "execution_count": 19,
      "outputs": []
    },
    {
      "cell_type": "markdown",
      "metadata": {
        "id": "5rtEcjYita3d",
        "colab_type": "text"
      },
      "source": [
        "# ***Model Training***"
      ]
    },
    {
      "cell_type": "code",
      "metadata": {
        "id": "RneK461_tYpm",
        "colab_type": "code",
        "colab": {
          "base_uri": "https://localhost:8080/",
          "height": 235
        },
        "outputId": "6f0e21d0-663f-4902-8aed-03d5b6115e29"
      },
      "source": [
        "from sklearn.model_selection import train_test_split\n",
        "phrase_train,phrase_test,sentiment_train,sentiment_test = train_test_split(X,y,test_size=0.3)\n",
        "\n",
        "\n",
        "from sklearn.feature_extraction.text import CountVectorizer\n",
        "from sklearn.feature_extraction.text import TfidfVectorizer\n",
        "from sklearn.linear_model import LogisticRegression\n",
        "from sklearn.pipeline import Pipeline\n",
        "\n",
        "pipeline = Pipeline([('BOW',CountVectorizer(analyzer=own_analyser)),\n",
        "                    ('tfidf',TfidfTransformer()),\n",
        "                    ('classifier',MultinomialNB())])\n",
        "\n",
        "\n",
        "#LG\n",
        "tvec = TfidfVectorizer()\n",
        "clf2 = LogisticRegression(solver = \"lbfgs\")\n",
        "model = Pipeline([('vectorizer',tvec),('classifier',clf2)])\n",
        "model.fit(phrase_train, sentiment_train)\n",
        "\n",
        "\n",
        "from sklearn.metrics import confusion_matrix\n",
        "\n",
        "predictions = model.predict(phrase_test)\n",
        "\n",
        "confusion_matrix(predictions, sentiment_test)"
      ],
      "execution_count": 30,
      "outputs": [
        {
          "output_type": "stream",
          "text": [
            "/usr/local/lib/python3.6/dist-packages/sklearn/linear_model/_logistic.py:940: ConvergenceWarning: lbfgs failed to converge (status=1):\n",
            "STOP: TOTAL NO. of ITERATIONS REACHED LIMIT.\n",
            "\n",
            "Increase the number of iterations (max_iter) or scale the data as shown in:\n",
            "    https://scikit-learn.org/stable/modules/preprocessing.html\n",
            "Please also refer to the documentation for alternative solver options:\n",
            "    https://scikit-learn.org/stable/modules/linear_model.html#logistic-regression\n",
            "  extra_warning_msg=_LOGISTIC_SOLVER_CONVERGENCE_MSG)\n"
          ],
          "name": "stderr"
        },
        {
          "output_type": "execute_result",
          "data": {
            "text/plain": [
              "array([[  372,   227,    43,     9,     1],\n",
              "       [ 1079,  2874,  1294,   268,    38],\n",
              "       [  614,  4660, 21008,  4555,   446],\n",
              "       [   57,   361,  1591,  4531,  1516],\n",
              "       [    6,    25,    66,   443,   734]])"
            ]
          },
          "metadata": {
            "tags": []
          },
          "execution_count": 30
        }
      ]
    },
    {
      "cell_type": "code",
      "metadata": {
        "id": "lzz0sg0639fM",
        "colab_type": "code",
        "colab": {
          "base_uri": "https://localhost:8080/",
          "height": 218
        },
        "outputId": "cf143bd6-2009-4c83-ae88-801172543c38"
      },
      "source": [
        "from sklearn.naive_bayes import MultinomialNB\n",
        "\n",
        "pipeline.fit(phrase_train,sentiment_train)\n",
        "predictions = pipeline.predict(phrase_test)\n",
        "\n",
        "from sklearn.metrics import classification_report\n",
        "\n",
        "print(classification_report(sentiment_test,predictions))"
      ],
      "execution_count": 39,
      "outputs": [
        {
          "output_type": "stream",
          "text": [
            "              precision    recall  f1-score   support\n",
            "\n",
            "           0       0.56      0.03      0.06      2128\n",
            "           1       0.51      0.24      0.33      8147\n",
            "           2       0.61      0.90      0.72     24002\n",
            "           3       0.53      0.38      0.44      9806\n",
            "           4       0.57      0.04      0.08      2735\n",
            "\n",
            "    accuracy                           0.59     46818\n",
            "   macro avg       0.56      0.32      0.33     46818\n",
            "weighted avg       0.57      0.59      0.53     46818\n",
            "\n"
          ],
          "name": "stdout"
        }
      ]
    },
    {
      "cell_type": "markdown",
      "metadata": {
        "id": "iFDh0-Jg1suC",
        "colab_type": "text"
      },
      "source": [
        "# ***Model Prediction***"
      ]
    },
    {
      "cell_type": "code",
      "metadata": {
        "id": "vn_osgWK07R3",
        "colab_type": "code",
        "colab": {
          "base_uri": "https://localhost:8080/",
          "height": 67
        },
        "outputId": "9554a053-0a95-4811-d463-da18fa05a3d4"
      },
      "source": [
        "from sklearn.metrics import accuracy_score, precision_score, recall_score\n",
        "\n",
        "print(\"Accuracy : \", accuracy_score(predictions, sentiment_test))\n",
        "print(\"Precision : \", precision_score(predictions, sentiment_test, average = 'weighted'))\n",
        "print(\"Recall : \", recall_score(predictions, sentiment_test, average = 'weighted'))"
      ],
      "execution_count": 31,
      "outputs": [
        {
          "output_type": "stream",
          "text": [
            "Accuracy :  0.6305053611858686\n",
            "Precision :  0.7159204478663953\n",
            "Recall :  0.6305053611858686\n"
          ],
          "name": "stdout"
        }
      ]
    },
    {
      "cell_type": "markdown",
      "metadata": {
        "id": "GfPvhiC31_Ws",
        "colab_type": "text"
      },
      "source": [
        "# ***Reading Test Data***"
      ]
    },
    {
      "cell_type": "code",
      "metadata": {
        "id": "unqbPSdE156t",
        "colab_type": "code",
        "colab": {}
      },
      "source": [
        "test_data = pd.read_csv('/content/drive/My Drive/Colab Notebooks/test.tsv',sep='\\t')"
      ],
      "execution_count": 33,
      "outputs": []
    },
    {
      "cell_type": "code",
      "metadata": {
        "id": "p4eNsDI22QWW",
        "colab_type": "code",
        "colab": {
          "base_uri": "https://localhost:8080/",
          "height": 343
        },
        "outputId": "319d9412-8284-45b9-cbab-d3617036f864"
      },
      "source": [
        "test_data.head(10)"
      ],
      "execution_count": 34,
      "outputs": [
        {
          "output_type": "execute_result",
          "data": {
            "text/html": [
              "<div>\n",
              "<style scoped>\n",
              "    .dataframe tbody tr th:only-of-type {\n",
              "        vertical-align: middle;\n",
              "    }\n",
              "\n",
              "    .dataframe tbody tr th {\n",
              "        vertical-align: top;\n",
              "    }\n",
              "\n",
              "    .dataframe thead th {\n",
              "        text-align: right;\n",
              "    }\n",
              "</style>\n",
              "<table border=\"1\" class=\"dataframe\">\n",
              "  <thead>\n",
              "    <tr style=\"text-align: right;\">\n",
              "      <th></th>\n",
              "      <th>PhraseId</th>\n",
              "      <th>SentenceId</th>\n",
              "      <th>Phrase</th>\n",
              "    </tr>\n",
              "  </thead>\n",
              "  <tbody>\n",
              "    <tr>\n",
              "      <th>0</th>\n",
              "      <td>156061</td>\n",
              "      <td>8545</td>\n",
              "      <td>An intermittently pleasing but mostly routine ...</td>\n",
              "    </tr>\n",
              "    <tr>\n",
              "      <th>1</th>\n",
              "      <td>156062</td>\n",
              "      <td>8545</td>\n",
              "      <td>An intermittently pleasing but mostly routine ...</td>\n",
              "    </tr>\n",
              "    <tr>\n",
              "      <th>2</th>\n",
              "      <td>156063</td>\n",
              "      <td>8545</td>\n",
              "      <td>An</td>\n",
              "    </tr>\n",
              "    <tr>\n",
              "      <th>3</th>\n",
              "      <td>156064</td>\n",
              "      <td>8545</td>\n",
              "      <td>intermittently pleasing but mostly routine effort</td>\n",
              "    </tr>\n",
              "    <tr>\n",
              "      <th>4</th>\n",
              "      <td>156065</td>\n",
              "      <td>8545</td>\n",
              "      <td>intermittently pleasing but mostly routine</td>\n",
              "    </tr>\n",
              "    <tr>\n",
              "      <th>5</th>\n",
              "      <td>156066</td>\n",
              "      <td>8545</td>\n",
              "      <td>intermittently pleasing but</td>\n",
              "    </tr>\n",
              "    <tr>\n",
              "      <th>6</th>\n",
              "      <td>156067</td>\n",
              "      <td>8545</td>\n",
              "      <td>intermittently pleasing</td>\n",
              "    </tr>\n",
              "    <tr>\n",
              "      <th>7</th>\n",
              "      <td>156068</td>\n",
              "      <td>8545</td>\n",
              "      <td>intermittently</td>\n",
              "    </tr>\n",
              "    <tr>\n",
              "      <th>8</th>\n",
              "      <td>156069</td>\n",
              "      <td>8545</td>\n",
              "      <td>pleasing</td>\n",
              "    </tr>\n",
              "    <tr>\n",
              "      <th>9</th>\n",
              "      <td>156070</td>\n",
              "      <td>8545</td>\n",
              "      <td>but</td>\n",
              "    </tr>\n",
              "  </tbody>\n",
              "</table>\n",
              "</div>"
            ],
            "text/plain": [
              "   PhraseId  SentenceId                                             Phrase\n",
              "0    156061        8545  An intermittently pleasing but mostly routine ...\n",
              "1    156062        8545  An intermittently pleasing but mostly routine ...\n",
              "2    156063        8545                                                 An\n",
              "3    156064        8545  intermittently pleasing but mostly routine effort\n",
              "4    156065        8545         intermittently pleasing but mostly routine\n",
              "5    156066        8545                        intermittently pleasing but\n",
              "6    156067        8545                            intermittently pleasing\n",
              "7    156068        8545                                     intermittently\n",
              "8    156069        8545                                           pleasing\n",
              "9    156070        8545                                                but"
            ]
          },
          "metadata": {
            "tags": []
          },
          "execution_count": 34
        }
      ]
    },
    {
      "cell_type": "code",
      "metadata": {
        "id": "0fk11PUe26X1",
        "colab_type": "code",
        "colab": {
          "base_uri": "https://localhost:8080/",
          "height": 252
        },
        "outputId": "6c0d2d1d-039e-4622-c60d-fe0cb3632793"
      },
      "source": [
        "test_data.info"
      ],
      "execution_count": 37,
      "outputs": [
        {
          "output_type": "execute_result",
          "data": {
            "text/plain": [
              "<bound method DataFrame.info of        PhraseId  SentenceId                                             Phrase\n",
              "0        156061        8545  An intermittently pleasing but mostly routine ...\n",
              "1        156062        8545  An intermittently pleasing but mostly routine ...\n",
              "2        156063        8545                                                 An\n",
              "3        156064        8545  intermittently pleasing but mostly routine effort\n",
              "4        156065        8545         intermittently pleasing but mostly routine\n",
              "...         ...         ...                                                ...\n",
              "66287    222348       11855             A long-winded , predictable scenario .\n",
              "66288    222349       11855               A long-winded , predictable scenario\n",
              "66289    222350       11855                                    A long-winded ,\n",
              "66290    222351       11855                                      A long-winded\n",
              "66291    222352       11855                               predictable scenario\n",
              "\n",
              "[66292 rows x 3 columns]>"
            ]
          },
          "metadata": {
            "tags": []
          },
          "execution_count": 37
        }
      ]
    },
    {
      "cell_type": "code",
      "metadata": {
        "id": "QDvO8h-U3AqX",
        "colab_type": "code",
        "colab": {
          "base_uri": "https://localhost:8080/",
          "height": 34
        },
        "outputId": "dd93eff7-1381-4871-f592-ef3fa01c591f"
      },
      "source": [
        "test_data.shape"
      ],
      "execution_count": 38,
      "outputs": [
        {
          "output_type": "execute_result",
          "data": {
            "text/plain": [
              "(66292, 3)"
            ]
          },
          "metadata": {
            "tags": []
          },
          "execution_count": 38
        }
      ]
    },
    {
      "cell_type": "code",
      "metadata": {
        "id": "CnFwbyQk2iwy",
        "colab_type": "code",
        "colab": {
          "base_uri": "https://localhost:8080/",
          "height": 34
        },
        "outputId": "91250c1c-4022-44ad-de8c-17fdb12ffe93"
      },
      "source": [
        "test_predictions = pipeline.predict(test_data['Phrase'])\n",
        "phrase_id = test_data['PhraseId'].values\n",
        "test_predictions.shape"
      ],
      "execution_count": 40,
      "outputs": [
        {
          "output_type": "execute_result",
          "data": {
            "text/plain": [
              "(66292,)"
            ]
          },
          "metadata": {
            "tags": []
          },
          "execution_count": 40
        }
      ]
    },
    {
      "cell_type": "code",
      "metadata": {
        "id": "_R2C7Bcj4V0g",
        "colab_type": "code",
        "colab": {}
      },
      "source": [
        "final_answer = pd.DataFrame({'PhraseId':phrase_id,'Sentiment':test_predictions})"
      ],
      "execution_count": 41,
      "outputs": []
    },
    {
      "cell_type": "code",
      "metadata": {
        "id": "OTee69PU4aF2",
        "colab_type": "code",
        "colab": {
          "base_uri": "https://localhost:8080/",
          "height": 195
        },
        "outputId": "e59c45b0-1aa7-45bb-fb5c-f044b0e11e22"
      },
      "source": [
        "final_answer.head()"
      ],
      "execution_count": 42,
      "outputs": [
        {
          "output_type": "execute_result",
          "data": {
            "text/html": [
              "<div>\n",
              "<style scoped>\n",
              "    .dataframe tbody tr th:only-of-type {\n",
              "        vertical-align: middle;\n",
              "    }\n",
              "\n",
              "    .dataframe tbody tr th {\n",
              "        vertical-align: top;\n",
              "    }\n",
              "\n",
              "    .dataframe thead th {\n",
              "        text-align: right;\n",
              "    }\n",
              "</style>\n",
              "<table border=\"1\" class=\"dataframe\">\n",
              "  <thead>\n",
              "    <tr style=\"text-align: right;\">\n",
              "      <th></th>\n",
              "      <th>PhraseId</th>\n",
              "      <th>Sentiment</th>\n",
              "    </tr>\n",
              "  </thead>\n",
              "  <tbody>\n",
              "    <tr>\n",
              "      <th>0</th>\n",
              "      <td>156061</td>\n",
              "      <td>3</td>\n",
              "    </tr>\n",
              "    <tr>\n",
              "      <th>1</th>\n",
              "      <td>156062</td>\n",
              "      <td>3</td>\n",
              "    </tr>\n",
              "    <tr>\n",
              "      <th>2</th>\n",
              "      <td>156063</td>\n",
              "      <td>2</td>\n",
              "    </tr>\n",
              "    <tr>\n",
              "      <th>3</th>\n",
              "      <td>156064</td>\n",
              "      <td>3</td>\n",
              "    </tr>\n",
              "    <tr>\n",
              "      <th>4</th>\n",
              "      <td>156065</td>\n",
              "      <td>3</td>\n",
              "    </tr>\n",
              "  </tbody>\n",
              "</table>\n",
              "</div>"
            ],
            "text/plain": [
              "   PhraseId  Sentiment\n",
              "0    156061          3\n",
              "1    156062          3\n",
              "2    156063          2\n",
              "3    156064          3\n",
              "4    156065          3"
            ]
          },
          "metadata": {
            "tags": []
          },
          "execution_count": 42
        }
      ]
    },
    {
      "cell_type": "markdown",
      "metadata": {
        "id": "Cmxe7iAj5jio",
        "colab_type": "text"
      },
      "source": [
        "# ***Trying on other reviews***"
      ]
    },
    {
      "cell_type": "code",
      "metadata": {
        "id": "aras13G25ir4",
        "colab_type": "code",
        "colab": {
          "base_uri": "https://localhost:8080/",
          "height": 50
        },
        "outputId": "6568a3d7-b9f4-4e2e-d3c3-de233af851c1"
      },
      "source": [
        "ex=[input((\"enter a string: \"))]\n",
        "re2=model.predict(ex)\n",
        "if(re2==0):\n",
        "  print(\"negative\")\n",
        "elif (re2==1):\n",
        "  print(\"sort of negative\")\n",
        "elif (re2==2):\n",
        "  print(\"moderate\") \n",
        "elif (re2==3):\n",
        "  print(\"sort of positive\")\n",
        "else:\n",
        "  print(\"positive\")"
      ],
      "execution_count": 66,
      "outputs": [
        {
          "output_type": "stream",
          "text": [
            "enter a string: good movie\n",
            "sort of positive\n"
          ],
          "name": "stdout"
        }
      ]
    },
    {
      "cell_type": "code",
      "metadata": {
        "id": "668Z-mMfzURN",
        "colab_type": "code",
        "colab": {
          "base_uri": "https://localhost:8080/",
          "height": 67
        },
        "outputId": "6f4a0734-124e-4e79-b4cc-1fa95707da4a"
      },
      "source": [
        "import nltk\n",
        "nltk.download('wordnet')"
      ],
      "execution_count": 27,
      "outputs": [
        {
          "output_type": "stream",
          "text": [
            "[nltk_data] Downloading package wordnet to /root/nltk_data...\n",
            "[nltk_data]   Unzipping corpora/wordnet.zip.\n"
          ],
          "name": "stdout"
        },
        {
          "output_type": "execute_result",
          "data": {
            "text/plain": [
              "True"
            ]
          },
          "metadata": {
            "tags": []
          },
          "execution_count": 27
        }
      ]
    }
  ]
}